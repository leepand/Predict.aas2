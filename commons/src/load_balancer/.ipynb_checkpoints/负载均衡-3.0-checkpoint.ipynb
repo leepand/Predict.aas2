{
 "cells": [
  {
   "cell_type": "code",
   "execution_count": 79,
   "metadata": {},
   "outputs": [
    {
     "name": "stdout",
     "output_type": "stream",
     "text": [
      "Overwriting worker_load_balancer.py\n"
     ]
    }
   ],
   "source": [
    "%%file worker_load_balancer.py\n",
    "# -*- coding:utf-8 -*-\n",
    "# Copyright 2017-2018, the original author or authors.\n",
    "\n",
    "# Licensed under the Apache License, Version 2.0 (the \"License\");\n",
    "# You may not use this file except in compliance\n",
    "# with the License.\n",
    "# You may obtain a copy of the License at\n",
    "#\n",
    "#   http://www.apache.org/licenses/LICENSE-2.0\n",
    "#\n",
    "# Unless required by applicable law or agreed to in writing,\n",
    "# software distributed under the License is distributed on an\n",
    "# \"AS IS\" BASIS, WITHOUT WARRANTIES OR CONDITIONS OF ANY\n",
    "# KIND, either express or implied. See the License for the\n",
    "# specific language governing permissions and limitations\n",
    "# under the License.\n",
    "#\n",
    "import logging\n",
    "import random\n",
    "import json\n",
    "import yaml\n",
    "\n",
    "from commons.src.config import config_loader\n",
    "from commons.src.load_balancer.worker_info import WorkerInfo\n",
    "from random import randint\n",
    "\n",
    "from KeepAlive.redis_utils import get_redis_conn,dict_to_redis_hset\n",
    "import requests\n",
    "import redis\n",
    "\n",
    "\n",
    "\n",
    "\n",
    "class AIinfoLoadError(Exception):\n",
    "    pass\n",
    "\n",
    "def worklist2worker(adict):\n",
    "    \"\"\"\n",
    "    for a key:[value(s)] dict, return value:[key(s)],\n",
    "    e.g. dict[doc] = [terms] --> dict[term] = [docs]\n",
    "    \"\"\"\n",
    "    inv_dict = {}\n",
    "    out_dict = {}\n",
    "    tmp_dict={}\n",
    "    [inv_dict.setdefault(v, []).append(k) for k, vlist in adict.items() for v in vlist]\n",
    "    for k,v in inv_dict.items():\n",
    "        tmp={}\n",
    "        host=k.split('-')[0]\n",
    "        port= k.split('-')[1]\n",
    "        local_id=k.split('-')[2]\n",
    "        tmp['local_worker_id']=int(local_id)\n",
    "        tmp['host']=str(host)\n",
    "        tmp['port']=int(port)\n",
    "        tmp['global_worker_id']=str(k)\n",
    "        tmp_dict[str(k)]=tmp\n",
    "    \n",
    "    out_dict = tmp_dict \n",
    "    return out_dict\n",
    "\n",
    "\n",
    "class UserEncoder(json.JSONEncoder):  \n",
    "    def default(self, obj):  \n",
    "        if isinstance(obj, WorkerInfo):  \n",
    "            return {'host':obj.host,'port':obj.port,'local_worker_id':obj.local_worker_id,'global_worker_id':obj.global_worker_id}\n",
    "        return json.JSONEncoder.default(self, obj)\n",
    "def worker_info2dict(obj):\n",
    "    return {'host':obj.host,'port':obj.port,'local_worker_id':obj.local_worker_id,'global_worker_id':obj.global_worker_id}\n",
    "class WorkerLoadBalancer:\n",
    "    \"\"\"\n",
    "    A generic worker load balancer which helps in choosing a worker randomly.\n",
    "    \"\"\"\n",
    "\n",
    "    def __init__(self):\n",
    "        \"\"\"\n",
    "            Constructor\n",
    "            Returns: None\n",
    "        \"\"\"\n",
    "\n",
    "        \"\"\"dict model type to model to worker list map.\"\"\"\n",
    "        self.model_type_to_model_to_worker_list = {}\n",
    "        \"\"\"dict model type to worker id to worker info map.\"\"\"\n",
    "        self.model_type_to_worker_id_to_worker = {}\n",
    "        \"\"\"dict Model type to model to workers map.\"\"\"\n",
    "        self.model_type_to_model_to_workers_map ={}\n",
    "        \"\"\"Request counts.\"\"\"\n",
    "        self.model_id_request_count={}\n",
    "        self.worker_request_count={}\n",
    "        \"\"\"Logger instance.\"\"\"\n",
    "        self.logger = logging.getLogger(__name__)\n",
    "        self.conn=get_redis_conn()\n",
    "\n",
    "    def update_workers_list(self, model_to_workers_map):\n",
    "        \"\"\"\n",
    "        Updates model to workers list map\n",
    "        param model_to_workers_map:\n",
    "        Input\n",
    "            - 模型类型\n",
    "            - 模型ID\n",
    "            - 服务信息(List)：host/port/local_worker_id \n",
    "            - {'CTR':[{'host':127.0.0.1,port:90,'local_worker_id': 2},\n",
    "            {'host': 'localhost', 'port': 9019, 'local_worker_id': 2}]}\n",
    "        Return:\n",
    "        \"\"\"\n",
    "        db_id=[]\n",
    "        if model_to_workers_map:\n",
    "            \"\"\"model_id：区分具体模型集群\"\"\"\n",
    "            model_to_worker_list = {}\n",
    "            worker_id_to_worker = {}\n",
    "            for model_id in model_to_workers_map.keys():                       \n",
    "                \"\"\"遍历输入信息取出服务信息list\"\"\"\n",
    "                if model_id in self.conn.hgetall('model_to_worker_list'):\n",
    "                    db_id=json.loads(self.conn.hgetall('model_to_worker_list')[model_id])\n",
    "                for worker in model_to_workers_map[model_id]:\n",
    "                    worker_info = WorkerInfo(worker[\"host\"], worker[\"port\"], worker[\"local_worker_id\"])\n",
    "                    worker_id=worker_info.global_worker_id\n",
    "                    \"\"\"解析服务信息至dict\"\"\"\n",
    "                    worker_id_to_worker[worker_id] = json.dumps(worker_info2dict(worker_info))\n",
    "                    \"\"\"解析global-id信息至list\"\"\"\n",
    "                    if len(db_id)>0:\n",
    "                        if worker_id not in db_id:\n",
    "                            db_id.append(worker_id)\n",
    "                    else:\n",
    "                        db_id.append(worker_id)\n",
    "                model_to_worker_list[model_id]=json.dumps(db_id)\n",
    "        \"\"\"update:更新model_to_worker_list、worker_id_to_worker至redis\"\"\"\n",
    "        dict_to_redis_hset(self.conn, 'model_to_worker_list', model_to_worker_list)\n",
    "        dict_to_redis_hset(self.conn, 'worker_id_to_worker', worker_id_to_worker)\n",
    "\n",
    "\n",
    "    def remove_workers(self, model_to_workers_dels):\n",
    "        \"\"\"\n",
    "         Used to remove workers to a model\n",
    "         :param model_id:\n",
    "         :param workers:\n",
    "         :return: None\n",
    "         \"\"\"\n",
    "        model_id=model_to_workers_dels['model_id']\n",
    "        worker_ids=model_to_workers_dels['worker_ids']\n",
    "        all_id=model_to_workers_dels['all_id']\n",
    "        if all_id:\n",
    "            alllist=self.conn.hgetall('model_to_worker_list')\n",
    "            if model_id in alllist:\n",
    "                self.conn.hdel('model_to_worker_list',model_id)\n",
    "                for worker_id in json.loads(alllist[model_id]):\n",
    "                    self.conn.hdel('worker_id_to_worker',worker_id)\n",
    "        else:\n",
    "            oldlist=self.conn.hgetall('model_to_worker_list')[model_id]\n",
    "            newlist=[]\n",
    "            newdict={}\n",
    "            \"\"\"del worker from worker dict\"\"\"\n",
    "            for worker_id in worker_ids:   \n",
    "                self.conn.hdel('worker_id_to_worker',worker_id)\n",
    "            \"\"\"del worker from worker list\"\"\"\n",
    "            for worker in json.loads(oldlist):\n",
    "                if worker not in worker_ids:\n",
    "                    newlist.append(worker)\n",
    "            newdict[model_id]=json.dumps(newlist)\n",
    "            dict_to_redis_hset(self.conn, 'model_to_worker_list', newdict)\n",
    "            \n",
    "\n",
    "    def choose_worker(self, model_id):\n",
    "        \"\"\"\n",
    "        Picks a worker(random) from available workers\n",
    "\n",
    "        :param model_type\n",
    "        :param model_id:\n",
    "        :return: a randomly chosen worker\n",
    "        \"\"\"\n",
    "        worker_request_count={}\n",
    "        if model_id in self.conn.hgetall('model_to_worker_list').keys():\n",
    "            worker_id_list = json.loads(self.conn.hgetall('model_to_worker_list')[model_id])\n",
    "            #keep alive by leepand\n",
    "            worker_id=random.choice(worker_id_list)\n",
    "            #keepa alive  end by leepand\n",
    "            #count requests by leepand\n",
    "            model_id_request_count=self.conn.hgetall('model_id_request_count')\n",
    "            \n",
    "            if model_id in model_id_request_count:\n",
    "                worker_request_count=json.loads(model_id_request_count[model_id])\n",
    "                if worker_id in worker_request_count:\n",
    "                    worker_request_count[worker_id]+=1\n",
    "                else:\n",
    "                    worker_request_count[worker_id]=1\n",
    "            else:\n",
    "                worker_request_count[worker_id]=1\n",
    "            model_id_request_count[model_id]=json.dumps(worker_request_count)\n",
    "            #end compute count by leepand\n",
    "            dict_to_redis_hset(self.conn, 'model_id_request_count', model_id_request_count)\n",
    "            return  json.loads(self.conn.hgetall('worker_id_to_worker')[worker_id])\n",
    "        else:\n",
    "            raise Exception(\"No worker available for the given model! \")\n",
    "\n",
    "    def get_all_workers(self):\n",
    "        \"\"\"\n",
    "        Returns all the workers available for the given model type\n",
    "        Args:\n",
    "            model_type: Type of the model\n",
    "\n",
    "        Returns: all the workers available for the given model type\n",
    "\n",
    "        \"\"\"\n",
    "        #return self.model_type_to_worker_id_to_worker.get(model_type)\n",
    "        try:\n",
    "            return self.conn.hgetall('worker_id_to_worker')\n",
    "        except:\n",
    "            return {'success':False,'message':'The specified model/version doesn\\'t exist!'}\n",
    "\n",
    "    def get_model_to_workers_list(self):\n",
    "        \"\"\"\n",
    "        Returns the list of workers for a given model_id\n",
    "        Args:\n",
    "            model_type: Type of the model\n",
    "        Returns: List of workers for the given model type\n",
    "\n",
    "        \"\"\"\n",
    "        return self.conn.hgetall('model_to_worker_list')\n",
    "\n",
    "\n",
    "    def get_worker_info(self, worker_id):\n",
    "        \"\"\"\n",
    "        Returns worker information of a given worker\n",
    "        Args:\n",
    "            worker_id: Global worker id\n",
    "            model_type: Type of the model\n",
    "\n",
    "        Returns: Worker information of the given worker\n",
    "\n",
    "        \"\"\"\n",
    "        if self.conn.hgetall('worker_id_to_worker'):\n",
    "            return self.conn.hgetall('worker_id_to_worker').get(worker_id)\n",
    "        else:\n",
    "            return None\n",
    "\n",
    "    def check_if_model_to_workers_map_is_empty(self):\n",
    "        \"\"\"\n",
    "        Checks if model to workers map is empty\n",
    "        Returns: False if model to workers map is empty else True\n",
    "\n",
    "        \"\"\"\n",
    "        #return False if self.model_type_to_model_to_worker_list else True\n",
    "        return False if self.conn.hgetall('model_to_worker_list') else True\n",
    "    \n",
    "\n",
    "\n",
    "\n",
    "\n"
   ]
  },
  {
   "cell_type": "code",
   "execution_count": 1,
   "metadata": {},
   "outputs": [
    {
     "data": {
      "text/plain": [
       "False"
      ]
     },
     "execution_count": 1,
     "metadata": {},
     "output_type": "execute_result"
    }
   ],
   "source": [
    "def dict_to_redis_hset(r, hkey, dict_to_store):\n",
    "    \"\"\"\n",
    "    Saves `dict_to_store` dict into Redis hash, where `hkey` is key of hash.\n",
    "    >>> import redis\n",
    "    >>> r = redis.StrictRedis(host='localhost')\n",
    "    >>> d = {'a':1, 'b':7, 'foo':'bar'}\n",
    "    >>> dict_to_redis_hset(r, 'test', d)\n",
    "    True\n",
    "    >>> r.hgetall('test')\n",
    "    {'a':1, 'b':7, 'foo':'bar'}\n",
    "    \"\"\"\n",
    "    return all([r.hset(hkey, k, v) for k, v in dict_to_store.items()])\n",
    "import redis\n",
    "r = redis.StrictRedis(host='localhost')\n",
    "d = {'a':[1,23]}\n",
    "dict_to_redis_hset(r, 'ffft', d)\n"
   ]
  },
  {
   "cell_type": "code",
   "execution_count": 6,
   "metadata": {},
   "outputs": [
    {
     "name": "stdout",
     "output_type": "stream",
     "text": [
      "1\n",
      "23\n"
     ]
    }
   ],
   "source": [
    "import json\n",
    "for k in json.loads(r.hgetall('ffft')['a']):\n",
    "    print k"
   ]
  },
  {
   "cell_type": "code",
   "execution_count": 7,
   "metadata": {},
   "outputs": [
    {
     "name": "stdout",
     "output_type": "stream",
     "text": [
      "[\n",
      "1\n",
      ",\n",
      " \n",
      "2\n",
      "3\n",
      "]\n"
     ]
    }
   ],
   "source": [
    "import json\n",
    "for k in r.hgetall('ffft')['a']:\n",
    "    print k"
   ]
  },
  {
   "cell_type": "code",
   "execution_count": 13,
   "metadata": {},
   "outputs": [
    {
     "ename": "ValueError",
     "evalue": "No JSON object could be decoded",
     "output_type": "error",
     "traceback": [
      "\u001b[0;31m---------------------------------------\u001b[0m",
      "\u001b[0;31mValueError\u001b[0mTraceback (most recent call last)",
      "\u001b[0;32m<ipython-input-13-0b398a8c0f22>\u001b[0m in \u001b[0;36m<module>\u001b[0;34m()\u001b[0m\n\u001b[0;32m----> 1\u001b[0;31m \u001b[0mjson\u001b[0m\u001b[0;34m.\u001b[0m\u001b[0mloads\u001b[0m\u001b[0;34m(\u001b[0m\u001b[0mr\u001b[0m\u001b[0;34m.\u001b[0m\u001b[0mhgetall\u001b[0m\u001b[0;34m(\u001b[0m\u001b[0;34m'model_to_worker_list'\u001b[0m\u001b[0;34m)\u001b[0m\u001b[0;34m[\u001b[0m\u001b[0;34m'fib'\u001b[0m\u001b[0;34m]\u001b[0m\u001b[0;34m)\u001b[0m\u001b[0;34m\u001b[0m\u001b[0m\n\u001b[0m",
      "\u001b[0;32m/Users/leepand/anaconda2/lib/python2.7/json/__init__.pyc\u001b[0m in \u001b[0;36mloads\u001b[0;34m(s, encoding, cls, object_hook, parse_float, parse_int, parse_constant, object_pairs_hook, **kw)\u001b[0m\n\u001b[1;32m    337\u001b[0m             \u001b[0mparse_int\u001b[0m \u001b[0;32mis\u001b[0m \u001b[0mNone\u001b[0m \u001b[0;32mand\u001b[0m \u001b[0mparse_float\u001b[0m \u001b[0;32mis\u001b[0m \u001b[0mNone\u001b[0m \u001b[0;32mand\u001b[0m\u001b[0;34m\u001b[0m\u001b[0m\n\u001b[1;32m    338\u001b[0m             parse_constant is None and object_pairs_hook is None and not kw):\n\u001b[0;32m--> 339\u001b[0;31m         \u001b[0;32mreturn\u001b[0m \u001b[0m_default_decoder\u001b[0m\u001b[0;34m.\u001b[0m\u001b[0mdecode\u001b[0m\u001b[0;34m(\u001b[0m\u001b[0ms\u001b[0m\u001b[0;34m)\u001b[0m\u001b[0;34m\u001b[0m\u001b[0m\n\u001b[0m\u001b[1;32m    340\u001b[0m     \u001b[0;32mif\u001b[0m \u001b[0mcls\u001b[0m \u001b[0;32mis\u001b[0m \u001b[0mNone\u001b[0m\u001b[0;34m:\u001b[0m\u001b[0;34m\u001b[0m\u001b[0m\n\u001b[1;32m    341\u001b[0m         \u001b[0mcls\u001b[0m \u001b[0;34m=\u001b[0m \u001b[0mJSONDecoder\u001b[0m\u001b[0;34m\u001b[0m\u001b[0m\n",
      "\u001b[0;32m/Users/leepand/anaconda2/lib/python2.7/json/decoder.pyc\u001b[0m in \u001b[0;36mdecode\u001b[0;34m(self, s, _w)\u001b[0m\n\u001b[1;32m    362\u001b[0m \u001b[0;34m\u001b[0m\u001b[0m\n\u001b[1;32m    363\u001b[0m         \"\"\"\n\u001b[0;32m--> 364\u001b[0;31m         \u001b[0mobj\u001b[0m\u001b[0;34m,\u001b[0m \u001b[0mend\u001b[0m \u001b[0;34m=\u001b[0m \u001b[0mself\u001b[0m\u001b[0;34m.\u001b[0m\u001b[0mraw_decode\u001b[0m\u001b[0;34m(\u001b[0m\u001b[0ms\u001b[0m\u001b[0;34m,\u001b[0m \u001b[0midx\u001b[0m\u001b[0;34m=\u001b[0m\u001b[0m_w\u001b[0m\u001b[0;34m(\u001b[0m\u001b[0ms\u001b[0m\u001b[0;34m,\u001b[0m \u001b[0;36m0\u001b[0m\u001b[0;34m)\u001b[0m\u001b[0;34m.\u001b[0m\u001b[0mend\u001b[0m\u001b[0;34m(\u001b[0m\u001b[0;34m)\u001b[0m\u001b[0;34m)\u001b[0m\u001b[0;34m\u001b[0m\u001b[0m\n\u001b[0m\u001b[1;32m    365\u001b[0m         \u001b[0mend\u001b[0m \u001b[0;34m=\u001b[0m \u001b[0m_w\u001b[0m\u001b[0;34m(\u001b[0m\u001b[0ms\u001b[0m\u001b[0;34m,\u001b[0m \u001b[0mend\u001b[0m\u001b[0;34m)\u001b[0m\u001b[0;34m.\u001b[0m\u001b[0mend\u001b[0m\u001b[0;34m(\u001b[0m\u001b[0;34m)\u001b[0m\u001b[0;34m\u001b[0m\u001b[0m\n\u001b[1;32m    366\u001b[0m         \u001b[0;32mif\u001b[0m \u001b[0mend\u001b[0m \u001b[0;34m!=\u001b[0m \u001b[0mlen\u001b[0m\u001b[0;34m(\u001b[0m\u001b[0ms\u001b[0m\u001b[0;34m)\u001b[0m\u001b[0;34m:\u001b[0m\u001b[0;34m\u001b[0m\u001b[0m\n",
      "\u001b[0;32m/Users/leepand/anaconda2/lib/python2.7/json/decoder.pyc\u001b[0m in \u001b[0;36mraw_decode\u001b[0;34m(self, s, idx)\u001b[0m\n\u001b[1;32m    380\u001b[0m             \u001b[0mobj\u001b[0m\u001b[0;34m,\u001b[0m \u001b[0mend\u001b[0m \u001b[0;34m=\u001b[0m \u001b[0mself\u001b[0m\u001b[0;34m.\u001b[0m\u001b[0mscan_once\u001b[0m\u001b[0;34m(\u001b[0m\u001b[0ms\u001b[0m\u001b[0;34m,\u001b[0m \u001b[0midx\u001b[0m\u001b[0;34m)\u001b[0m\u001b[0;34m\u001b[0m\u001b[0m\n\u001b[1;32m    381\u001b[0m         \u001b[0;32mexcept\u001b[0m \u001b[0mStopIteration\u001b[0m\u001b[0;34m:\u001b[0m\u001b[0;34m\u001b[0m\u001b[0m\n\u001b[0;32m--> 382\u001b[0;31m             \u001b[0;32mraise\u001b[0m \u001b[0mValueError\u001b[0m\u001b[0;34m(\u001b[0m\u001b[0;34m\"No JSON object could be decoded\"\u001b[0m\u001b[0;34m)\u001b[0m\u001b[0;34m\u001b[0m\u001b[0m\n\u001b[0m\u001b[1;32m    383\u001b[0m         \u001b[0;32mreturn\u001b[0m \u001b[0mobj\u001b[0m\u001b[0;34m,\u001b[0m \u001b[0mend\u001b[0m\u001b[0;34m\u001b[0m\u001b[0m\n",
      "\u001b[0;31mValueError\u001b[0m: No JSON object could be decoded"
     ]
    }
   ],
   "source": [
    "json.loads(r.hgetall('model_to_worker_list')['fib'])"
   ]
  },
  {
   "cell_type": "code",
   "execution_count": 16,
   "metadata": {},
   "outputs": [
    {
     "data": {
      "text/plain": [
       "\"[u'localhost-8003-3', u'localhost-9003-1']\""
      ]
     },
     "execution_count": 16,
     "metadata": {},
     "output_type": "execute_result"
    }
   ],
   "source": [
    "r.hgetall('model_to_worker_list')['fib']"
   ]
  },
  {
   "cell_type": "code",
   "execution_count": 26,
   "metadata": {},
   "outputs": [
    {
     "ename": "ValueError",
     "evalue": "Expecting property name: line 1 column 2 (char 1)",
     "output_type": "error",
     "traceback": [
      "\u001b[0;31m---------------------------------------\u001b[0m",
      "\u001b[0;31mValueError\u001b[0mTraceback (most recent call last)",
      "\u001b[0;32m<ipython-input-26-714a87d44b29>\u001b[0m in \u001b[0;36m<module>\u001b[0;34m()\u001b[0m\n\u001b[0;32m----> 1\u001b[0;31m \u001b[0mjson\u001b[0m\u001b[0;34m.\u001b[0m\u001b[0mloads\u001b[0m\u001b[0;34m(\u001b[0m\u001b[0mr\u001b[0m\u001b[0;34m.\u001b[0m\u001b[0mhgetall\u001b[0m\u001b[0;34m(\u001b[0m\u001b[0;34m'worker_id_to_worker'\u001b[0m\u001b[0;34m)\u001b[0m\u001b[0;34m[\u001b[0m\u001b[0;34m'localhost-8003-3'\u001b[0m\u001b[0;34m]\u001b[0m\u001b[0;34m)\u001b[0m\u001b[0;34m\u001b[0m\u001b[0m\n\u001b[0m",
      "\u001b[0;32m/Users/leepand/anaconda2/lib/python2.7/json/__init__.pyc\u001b[0m in \u001b[0;36mloads\u001b[0;34m(s, encoding, cls, object_hook, parse_float, parse_int, parse_constant, object_pairs_hook, **kw)\u001b[0m\n\u001b[1;32m    337\u001b[0m             \u001b[0mparse_int\u001b[0m \u001b[0;32mis\u001b[0m \u001b[0mNone\u001b[0m \u001b[0;32mand\u001b[0m \u001b[0mparse_float\u001b[0m \u001b[0;32mis\u001b[0m \u001b[0mNone\u001b[0m \u001b[0;32mand\u001b[0m\u001b[0;34m\u001b[0m\u001b[0m\n\u001b[1;32m    338\u001b[0m             parse_constant is None and object_pairs_hook is None and not kw):\n\u001b[0;32m--> 339\u001b[0;31m         \u001b[0;32mreturn\u001b[0m \u001b[0m_default_decoder\u001b[0m\u001b[0;34m.\u001b[0m\u001b[0mdecode\u001b[0m\u001b[0;34m(\u001b[0m\u001b[0ms\u001b[0m\u001b[0;34m)\u001b[0m\u001b[0;34m\u001b[0m\u001b[0m\n\u001b[0m\u001b[1;32m    340\u001b[0m     \u001b[0;32mif\u001b[0m \u001b[0mcls\u001b[0m \u001b[0;32mis\u001b[0m \u001b[0mNone\u001b[0m\u001b[0;34m:\u001b[0m\u001b[0;34m\u001b[0m\u001b[0m\n\u001b[1;32m    341\u001b[0m         \u001b[0mcls\u001b[0m \u001b[0;34m=\u001b[0m \u001b[0mJSONDecoder\u001b[0m\u001b[0;34m\u001b[0m\u001b[0m\n",
      "\u001b[0;32m/Users/leepand/anaconda2/lib/python2.7/json/decoder.pyc\u001b[0m in \u001b[0;36mdecode\u001b[0;34m(self, s, _w)\u001b[0m\n\u001b[1;32m    362\u001b[0m \u001b[0;34m\u001b[0m\u001b[0m\n\u001b[1;32m    363\u001b[0m         \"\"\"\n\u001b[0;32m--> 364\u001b[0;31m         \u001b[0mobj\u001b[0m\u001b[0;34m,\u001b[0m \u001b[0mend\u001b[0m \u001b[0;34m=\u001b[0m \u001b[0mself\u001b[0m\u001b[0;34m.\u001b[0m\u001b[0mraw_decode\u001b[0m\u001b[0;34m(\u001b[0m\u001b[0ms\u001b[0m\u001b[0;34m,\u001b[0m \u001b[0midx\u001b[0m\u001b[0;34m=\u001b[0m\u001b[0m_w\u001b[0m\u001b[0;34m(\u001b[0m\u001b[0ms\u001b[0m\u001b[0;34m,\u001b[0m \u001b[0;36m0\u001b[0m\u001b[0;34m)\u001b[0m\u001b[0;34m.\u001b[0m\u001b[0mend\u001b[0m\u001b[0;34m(\u001b[0m\u001b[0;34m)\u001b[0m\u001b[0;34m)\u001b[0m\u001b[0;34m\u001b[0m\u001b[0m\n\u001b[0m\u001b[1;32m    365\u001b[0m         \u001b[0mend\u001b[0m \u001b[0;34m=\u001b[0m \u001b[0m_w\u001b[0m\u001b[0;34m(\u001b[0m\u001b[0ms\u001b[0m\u001b[0;34m,\u001b[0m \u001b[0mend\u001b[0m\u001b[0;34m)\u001b[0m\u001b[0;34m.\u001b[0m\u001b[0mend\u001b[0m\u001b[0;34m(\u001b[0m\u001b[0;34m)\u001b[0m\u001b[0;34m\u001b[0m\u001b[0m\n\u001b[1;32m    366\u001b[0m         \u001b[0;32mif\u001b[0m \u001b[0mend\u001b[0m \u001b[0;34m!=\u001b[0m \u001b[0mlen\u001b[0m\u001b[0;34m(\u001b[0m\u001b[0ms\u001b[0m\u001b[0;34m)\u001b[0m\u001b[0;34m:\u001b[0m\u001b[0;34m\u001b[0m\u001b[0m\n",
      "\u001b[0;32m/Users/leepand/anaconda2/lib/python2.7/json/decoder.pyc\u001b[0m in \u001b[0;36mraw_decode\u001b[0;34m(self, s, idx)\u001b[0m\n\u001b[1;32m    378\u001b[0m         \"\"\"\n\u001b[1;32m    379\u001b[0m         \u001b[0;32mtry\u001b[0m\u001b[0;34m:\u001b[0m\u001b[0;34m\u001b[0m\u001b[0m\n\u001b[0;32m--> 380\u001b[0;31m             \u001b[0mobj\u001b[0m\u001b[0;34m,\u001b[0m \u001b[0mend\u001b[0m \u001b[0;34m=\u001b[0m \u001b[0mself\u001b[0m\u001b[0;34m.\u001b[0m\u001b[0mscan_once\u001b[0m\u001b[0;34m(\u001b[0m\u001b[0ms\u001b[0m\u001b[0;34m,\u001b[0m \u001b[0midx\u001b[0m\u001b[0;34m)\u001b[0m\u001b[0;34m\u001b[0m\u001b[0m\n\u001b[0m\u001b[1;32m    381\u001b[0m         \u001b[0;32mexcept\u001b[0m \u001b[0mStopIteration\u001b[0m\u001b[0;34m:\u001b[0m\u001b[0;34m\u001b[0m\u001b[0m\n\u001b[1;32m    382\u001b[0m             \u001b[0;32mraise\u001b[0m \u001b[0mValueError\u001b[0m\u001b[0;34m(\u001b[0m\u001b[0;34m\"No JSON object could be decoded\"\u001b[0m\u001b[0;34m)\u001b[0m\u001b[0;34m\u001b[0m\u001b[0m\n",
      "\u001b[0;31mValueError\u001b[0m: Expecting property name: line 1 column 2 (char 1)"
     ]
    }
   ],
   "source": [
    "json.loads(r.hgetall('worker_id_to_worker')['localhost-8003-3'])"
   ]
  },
  {
   "cell_type": "code",
   "execution_count": 3,
   "metadata": {},
   "outputs": [
    {
     "ename": "SyntaxError",
     "evalue": "unexpected EOF while parsing (<ipython-input-3-f8f3387a2851>, line 1)",
     "output_type": "error",
     "traceback": [
      "\u001b[0;36m  File \u001b[0;32m\"<ipython-input-3-f8f3387a2851>\"\u001b[0;36m, line \u001b[0;32m1\u001b[0m\n\u001b[0;31m    json.loads(r.hgetall('worker_id_to_worker')#['localhost-8003-3'])\u001b[0m\n\u001b[0m                                                                     ^\u001b[0m\n\u001b[0;31mSyntaxError\u001b[0m\u001b[0;31m:\u001b[0m unexpected EOF while parsing\n"
     ]
    }
   ],
   "source": [
    "json.loads(r.hgetall('worker_id_to_worker')#['localhost-8003-3'])"
   ]
  },
  {
   "cell_type": "code",
   "execution_count": 11,
   "metadata": {},
   "outputs": [
    {
     "data": {
      "text/plain": [
       "{'fib': '[\"localhost-8001-1\"]'}"
      ]
     },
     "execution_count": 11,
     "metadata": {},
     "output_type": "execute_result"
    }
   ],
   "source": [
    "r.hgetall('model_to_worker_list')"
   ]
  },
  {
   "cell_type": "code",
   "execution_count": 67,
   "metadata": {},
   "outputs": [
    {
     "data": {
      "text/plain": [
       "1"
      ]
     },
     "execution_count": 67,
     "metadata": {},
     "output_type": "execute_result"
    }
   ],
   "source": [
    "r.hdel('model_to_worker_list','fib')"
   ]
  },
  {
   "cell_type": "code",
   "execution_count": 4,
   "metadata": {},
   "outputs": [
    {
     "data": {
      "text/plain": [
       "{'localhost-8001-1': '{\"local_worker_id\": 1, \"host\": \"localhost\", \"global_worker_id\": \"localhost-8001-1\", \"port\": 8001}',\n",
       " 'localhost-8003-3': '{\"local_worker_id\": 3, \"host\": \"localhost\", \"global_worker_id\": \"localhost-8003-3\", \"port\": 8003}',\n",
       " 'localhost-9003-1': '{\"local_worker_id\": 1, \"host\": \"localhost\", \"global_worker_id\": \"localhost-9003-1\", \"port\": 9003}'}"
      ]
     },
     "execution_count": 4,
     "metadata": {},
     "output_type": "execute_result"
    }
   ],
   "source": [
    "r.hgetall('worker_id_to_worker')"
   ]
  },
  {
   "cell_type": "code",
   "execution_count": 43,
   "metadata": {},
   "outputs": [
    {
     "data": {
      "text/plain": [
       "1"
      ]
     },
     "execution_count": 43,
     "metadata": {},
     "output_type": "execute_result"
    }
   ],
   "source": [
    "r.hdel('worker_id_to_worker','localhost-8003-3')\n",
    "r.hdel('worker_id_to_worker','localhost-9003-1')"
   ]
  },
  {
   "cell_type": "code",
   "execution_count": 70,
   "metadata": {},
   "outputs": [
    {
     "data": {
      "text/plain": [
       "u'localhost-8003-3'"
      ]
     },
     "execution_count": 70,
     "metadata": {},
     "output_type": "execute_result"
    }
   ],
   "source": [
    "json.loads(r.hgetall('model_to_worker_list')['fib'])[0]"
   ]
  },
  {
   "cell_type": "code",
   "execution_count": 5,
   "metadata": {},
   "outputs": [
    {
     "data": {
      "text/plain": [
       "{'fib': '{\"localhost-8001-1\": 5, \"localhost-8003-3\": 3}'}"
      ]
     },
     "execution_count": 5,
     "metadata": {},
     "output_type": "execute_result"
    }
   ],
   "source": [
    "r.hgetall('model_id_request_count')"
   ]
  },
  {
   "cell_type": "code",
   "execution_count": 7,
   "metadata": {},
   "outputs": [
    {
     "data": {
      "text/plain": [
       "{'fib': '{\"localhost-8001-1\": 9, \"localhost-8003-3\": 7}'}"
      ]
     },
     "execution_count": 7,
     "metadata": {},
     "output_type": "execute_result"
    }
   ],
   "source": [
    "r.hgetall('model_id_request_count')"
   ]
  },
  {
   "cell_type": "code",
   "execution_count": null,
   "metadata": {},
   "outputs": [],
   "source": []
  }
 ],
 "metadata": {
  "kernelspec": {
   "display_name": "Python 2",
   "language": "python",
   "name": "python2"
  },
  "language_info": {
   "codemirror_mode": {
    "name": "ipython",
    "version": 2
   },
   "file_extension": ".py",
   "mimetype": "text/x-python",
   "name": "python",
   "nbconvert_exporter": "python",
   "pygments_lexer": "ipython2",
   "version": "2.7.13"
  }
 },
 "nbformat": 4,
 "nbformat_minor": 2
}
