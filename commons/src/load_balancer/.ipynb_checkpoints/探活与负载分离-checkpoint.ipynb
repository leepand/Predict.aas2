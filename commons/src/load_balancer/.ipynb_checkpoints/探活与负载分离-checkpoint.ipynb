{
 "cells": [
  {
   "cell_type": "code",
   "execution_count": 120,
   "metadata": {},
   "outputs": [],
   "source": [
    "import datetime\n",
    "import hashlib\n",
    "import json\n",
    "import time\n",
    "import yaml\n",
    "\n",
    "DATETIME_FORMAT = '%m/%d %H:%M'\n",
    "\n",
    "\n",
    "def format_now():\n",
    "    return datetime.datetime.now().strftime(DATETIME_FORMAT)\n",
    "\n",
    "\n",
    "class Test:\n",
    "    def __init__(self, owner,config):\n",
    "        self.owner = owner\n",
    "        self.config = config\n",
    "        self.id = hashlib.sha256(json.dumps(config).encode()).hexdigest()\n",
    "        \n",
    "        self.down_message = config.setdefault('down_message', '$name is down, since $last_pass_time')\n",
    "        self.up_message = config.setdefault('up_message', '$name is up')\n",
    "        self.ignore_fail_count = config.setdefault('ignore_fail_count', 0)\n",
    "        self.alert_period_hours = config.setdefault('alert_period_hours', 1.0)\n",
    "        \n",
    "    def get(self, key, default=None):\n",
    "        if not self.id in self.owner.state:\n",
    "            self.owner.state[self.id] = {}\n",
    "        return self.owner.state[self.id].setdefault(key, default)\n",
    "\n",
    "    def set(self, key, value):\n",
    "        if not self.id in self.owner.state:\n",
    "            self.owner.state[self.id] = {}\n",
    "        self.owner.state[self.id][key] = value\n",
    "\n",
    "    def expand_message(self, message):\n",
    "        for key, value in self.config.items():\n",
    "            message = message.replace('$' + key, str(value))\n",
    "        if not self.id in self.owner.state:\n",
    "            self.owner.state[self.id] = {}\n",
    "        for key, value in self.owner.state[self.id].items():\n",
    "            message = message.replace('$' + key, str(value))\n",
    "        return message\n",
    "\n",
    "    def do_pass(self):\n",
    "        if self.get('state') != 'passing':\n",
    "            self.owner.notify(self.expand_message(self.up_message))\n",
    "            self.set('state', 'passing')\n",
    "            self.set('first_pass_time', format_now())\n",
    "            self.set('last_fail_alert_time', 0)\n",
    "        self.set('last_pass_time', format_now())\n",
    "        self.set('fail_count', 0)\n",
    "        self.set('url', 'http://%s:%d' % ( self.config['host'], self.config['port']))\n",
    "        self.set('global_worker_id', self.config['worker_id'])\n",
    "        self.set('model_id', self.config['model_id'])\n",
    "        dict_to_redis_hset(r, 'server_real_time_state', self.owner.state)\n",
    "        with open('heartbeat_ok.json', 'w') as state_file:\n",
    "            json.dump(self.owner.state, state_file)\n",
    "\n",
    "    def do_fail(self):\n",
    "        fail_count = self.get('fail_count', 0) + 1\n",
    "        self.set('fail_count', fail_count)\n",
    "        if fail_count > self.ignore_fail_count:\n",
    "            if self.get('state') != 'failing':\n",
    "                self.set('state', 'failing')\n",
    "                self.set('first_fail_time', format_now())\n",
    "            alert_time = time.time()\n",
    "            last_alert_fail_time = self.get('last_fail_alert_time', 0)\n",
    "            if alert_time - last_alert_fail_time >= self.alert_period_hours * 60 * 60:\n",
    "                self.set('last_fail_alert_time', alert_time)\n",
    "                self.owner.notify(self.expand_message(self.down_message))\n",
    "        self.set('last_fail_time', format_now())\n",
    "        self.set('url', 'http://%s:%d' % ( self.config['host'], self.config['port']))\n",
    "        self.set('global_worker_id', self.config['worker_id'])\n",
    "        self.set('model_id', self.config['model_id'])\n",
    "        \n",
    "        dict_to_redis_hset(r, 'server_real_time_state', self.owner.state)\n",
    "        with open('heartbeat_down.json', 'w') as state_file:\n",
    "            json.dump(self.owner.state, state_file)\n",
    "\n",
    "\n",
    "\n",
    "class TCPTest(Test):\n",
    "    def __init__(self, owner,config):\n",
    "        Test.__init__(self,owner,config)\n",
    "        #super().__init__(owner, config)\n",
    "        import socket\n",
    "        self.host = config['host']\n",
    "        self.port = config['port']\n",
    "\n",
    "    def run(self):\n",
    "        import socket\n",
    "        try:\n",
    "            sock=socket.create_connection((self.host, self.port))\n",
    "            print('{}:{} OK'.format(self.host, self.port))\n",
    "            sock.shutdown(socket.SHUT_RDWR)\n",
    "        except:\n",
    "            print('{}:{} {}'.format(self.host, self.port, 'err'))\n",
    "            self.do_fail()\n",
    "        else:\n",
    "            self.do_pass()\n",
    "\n",
    "\n",
    "class HTTPTest(Test):\n",
    "    def __init__(self, owner, config):\n",
    "        Test.__init__(self,owner, config)#注意此处参数含self  \n",
    "        #super().__init__(owner, config)\n",
    "        import requests\n",
    "        self.url = 'http://%s:%d' % ( config['host'], config['port'])#'http://%s:%d' % (worker.host,worker.port)#config['url']\n",
    "        self.headers ={'x-ha-access': 'XXXXXXXX', 'Content-Type': 'application/json'}#config.get('headers', {})\n",
    "        #print('self.headers',self.headers)\n",
    "    def run(self):\n",
    "        import requests\n",
    "        try:\n",
    "            r = requests.get(self.url, headers=self.headers)\n",
    "            print(self.url, r.status_code, r.reason)\n",
    "            if r.status_code == 200:\n",
    "                self.do_pass()\n",
    "            else:\n",
    "                self.do_fail()\n",
    "        except requests.ConnectionError as err:\n",
    "            print('{}:{} {}'.format(self.url, self.headers, err))\n",
    "            self.do_fail()\n",
    "\n",
    "TEST_PROVIDERS = [('tcp', TCPTest),('http', HTTPTest)]\n",
    "\n",
    "class Heartbeat:\n",
    "    def __init__(self):\n",
    "        self.state = {}\n",
    "        self.tests = []\n",
    "        self.alerts = []\n",
    "    def _load_tests(self):\n",
    "        for key, provider in TEST_PROVIDERS:\n",
    "            \n",
    "            self.tests.append(provider(self,{'host':'127.0.0.1','port':8001}))\n",
    "                    \n",
    "    def notify(self, message):\n",
    "        for alert in self.alerts:\n",
    "            print 'message',message\n",
    "            alert.send(message)\n",
    "\n",
    "    def test(self):\n",
    "        for test in self.tests:\n",
    "            test.run()\n",
    "\n",
    "    def run(self):\n",
    "        self._load_tests()\n",
    "        self.test()\n",
    "        for x in  self.tests:\n",
    "            print x\n",
    "        #self.save_state()\n",
    "class Heartbeat4LB:\n",
    "    def __init__(self):\n",
    "        self.state = {}\n",
    "        self.tests = []\n",
    "        self.alerts = []\n",
    "    def run_heart(self,config):\n",
    "        if config['test_type']=='tcp':            \n",
    "            self.tests.append(TCPTest(self,config))\n",
    "        else:\n",
    "            self.tests.append(HTTPTest(self,config))\n",
    "                    \n",
    "    def notify(self, message):\n",
    "        for alert in self.alerts:\n",
    "            alert.send(message)\n",
    "\n",
    "    def test(self):\n",
    "        for test in self.tests:\n",
    "            test.run()\n",
    "\n",
    "    def run(self,conf):\n",
    "        self.run_heart(conf)\n",
    "        self.test()\n",
    "\n",
    "\n",
    "\n",
    "import time\n",
    "t1=time.time()\n",
    "#if __name__ == '__main__':\n",
    "#    heartbeat = Heartbeat4LB()\n",
    "#    heartbeat.run({'host':'127.0.0.1','port':8051,'test_type':'http'})\n",
    "#    print(time.time()-t1)"
   ]
  },
  {
   "cell_type": "code",
   "execution_count": 116,
   "metadata": {},
   "outputs": [
    {
     "data": {
      "text/plain": [
       "{'3599554d487ac658835d3a40bb14d0a51793cb985ce7c9f9434b4c88cce68ea6': \"{'last_fail_alert_time': 1527599183.227461, 'url': u'http://localhost:9019', 'state': 'failing', 'fail_count': 3, 'last_fail_time': '05/29 21:06', 'global_worker_id': u'localhost-9019-2', 'first_fail_time': '05/29 21:06'}\",\n",
       " '39f6a25897686c3ba25ec1a9fe24a670c4c5e42f476392734933fb91c86920eb': \"{'last_fail_alert_time': 1527599183.095376, 'url': u'http://localhost:9005', 'state': 'failing', 'fail_count': 5, 'last_fail_time': '05/29 21:06', 'global_worker_id': u'localhost-9005-1', 'first_fail_time': '05/29 21:06'}\",\n",
       " '3d582a3591f27fee1a39b0dfcd5b7009ff7fc180849fb12b21eb2bf88d5cb4b7': \"{'last_fail_alert_time': 0, 'url': u'http://localhost:8002', 'first_pass_time': '05/29 21:06', 'last_pass_time': '05/29 21:06', 'fail_count': 0, 'state': 'passing', 'global_worker_id': u'localhost-8002-1'}\",\n",
       " '67b0f92881cba4f1c39bc866cb5d85e66b4cd78f759f2f0f4bdcf5cf7eaa5920': \"{'last_fail_alert_time': 0, 'url': u'http://localhost:8001', 'first_pass_time': '05/29 21:06', 'last_pass_time': '05/29 21:06', 'fail_count': 0, 'state': 'passing', 'global_worker_id': u'localhost-8001-1'}\",\n",
       " '8510509c49b9132eeb403a0509a047b46d3472aa53425f852c7979048c7aa46a': \"{'last_fail_alert_time': 0, 'url': u'http://localhost:8003', 'first_pass_time': '05/29 21:06', 'last_pass_time': '05/29 21:06', 'fail_count': 0, 'state': 'passing', 'global_worker_id': u'localhost-8003-1'}\",\n",
       " '8ed1359ed01d96ac12121f4ee9738caf1c389e29b682e6f70ae6f3b4c02042c7': \"{'last_fail_alert_time': 0, 'url': u'http://localhost:8001', 'first_pass_time': '05/29 21:06', 'last_pass_time': '05/29 21:06', 'fail_count': 0, 'state': 'passing', 'global_worker_id': u'localhost-8001-2'}\",\n",
       " 'a7f72b9b4605a75758f4bbc2766238d8cd650996248da2d7f38f15bc8365ea42': \"{'last_fail_alert_time': 1527599182.979892, 'url': u'http://localhost:9019', 'state': 'failing', 'fail_count': 9, 'last_fail_time': '05/29 21:06', 'global_worker_id': u'localhost-9019-1', 'first_fail_time': '05/29 21:06'}\"}"
      ]
     },
     "execution_count": 116,
     "metadata": {},
     "output_type": "execute_result"
    }
   ],
   "source": [
    "r.hgetall('server_real_time_state')"
   ]
  },
  {
   "cell_type": "code",
   "execution_count": 124,
   "metadata": {},
   "outputs": [
    {
     "data": {
      "text/plain": [
       "{'1106f3ac9cf41ce3c84567733ee385e91da61dd2a523407fe0942b3530cdc24f': \"{'model_id': u'fib2', 'last_fail_alert_time': 1527599880.954699, 'url': u'http://localhost:9019', 'state': 'failing', 'fail_count': 3, 'last_fail_time': '05/29 21:18', 'global_worker_id': u'localhost-9019-2', 'first_fail_time': '05/29 21:18'}\",\n",
       " '2e4e0674909b941665469df6f548718f66198f5bd7b98995e7a22751fdc49479': \"{'model_id': u'fib2', 'last_fail_alert_time': 0, 'url': u'http://localhost:8001', 'first_pass_time': '05/29 21:18', 'last_pass_time': '05/29 21:18', 'fail_count': 0, 'state': 'passing', 'global_worker_id': u'localhost-8001-2'}\",\n",
       " '3599554d487ac658835d3a40bb14d0a51793cb985ce7c9f9434b4c88cce68ea6': \"{'last_fail_alert_time': 1527599183.227461, 'url': u'http://localhost:9019', 'state': 'failing', 'fail_count': 3, 'last_fail_time': '05/29 21:06', 'global_worker_id': u'localhost-9019-2', 'first_fail_time': '05/29 21:06'}\",\n",
       " '39f6a25897686c3ba25ec1a9fe24a670c4c5e42f476392734933fb91c86920eb': \"{'last_fail_alert_time': 1527599183.095376, 'url': u'http://localhost:9005', 'state': 'failing', 'fail_count': 5, 'last_fail_time': '05/29 21:06', 'global_worker_id': u'localhost-9005-1', 'first_fail_time': '05/29 21:06'}\",\n",
       " '3d582a3591f27fee1a39b0dfcd5b7009ff7fc180849fb12b21eb2bf88d5cb4b7': \"{'last_fail_alert_time': 0, 'url': u'http://localhost:8002', 'first_pass_time': '05/29 21:06', 'last_pass_time': '05/29 21:06', 'fail_count': 0, 'state': 'passing', 'global_worker_id': u'localhost-8002-1'}\",\n",
       " '4e557f316cbe1b9c4227285c7a7d6580f5957309b197d2ea343a90875a5b0e62': \"{'model_id': u'fib2', 'last_fail_alert_time': 0, 'url': u'http://localhost:8001', 'first_pass_time': '05/29 21:18', 'last_pass_time': '05/29 21:18', 'fail_count': 0, 'state': 'passing', 'global_worker_id': u'localhost-8001-1'}\",\n",
       " '67b0f92881cba4f1c39bc866cb5d85e66b4cd78f759f2f0f4bdcf5cf7eaa5920': \"{'last_fail_alert_time': 0, 'url': u'http://localhost:8001', 'first_pass_time': '05/29 21:06', 'last_pass_time': '05/29 21:06', 'fail_count': 0, 'state': 'passing', 'global_worker_id': u'localhost-8001-1'}\",\n",
       " '6cf73b4f3c3adb15b8061b651515ec6cfaa9750c7ce5cde84cdfb6c83bc97587': \"{'model_id': u'fib', 'last_fail_alert_time': 1527599880.675639, 'url': u'http://localhost:9019', 'state': 'failing', 'fail_count': 8, 'last_fail_time': '05/29 21:18', 'global_worker_id': u'localhost-9019-1', 'first_fail_time': '05/29 21:18'}\",\n",
       " '8510509c49b9132eeb403a0509a047b46d3472aa53425f852c7979048c7aa46a': \"{'last_fail_alert_time': 0, 'url': u'http://localhost:8003', 'first_pass_time': '05/29 21:06', 'last_pass_time': '05/29 21:06', 'fail_count': 0, 'state': 'passing', 'global_worker_id': u'localhost-8003-1'}\",\n",
       " '8ed1359ed01d96ac12121f4ee9738caf1c389e29b682e6f70ae6f3b4c02042c7': \"{'last_fail_alert_time': 0, 'url': u'http://localhost:8001', 'first_pass_time': '05/29 21:06', 'last_pass_time': '05/29 21:06', 'fail_count': 0, 'state': 'passing', 'global_worker_id': u'localhost-8001-2'}\",\n",
       " '90af8f19bc74106dd1fef2b6d2a0058194e2f6afbade2459c8de5e5ea52e695f': \"{'model_id': u'predict', 'last_fail_alert_time': 1527599880.804145, 'url': u'http://localhost:9005', 'state': 'failing', 'fail_count': 5, 'last_fail_time': '05/29 21:18', 'global_worker_id': u'localhost-9005-1', 'first_fail_time': '05/29 21:18'}\",\n",
       " 'a7f72b9b4605a75758f4bbc2766238d8cd650996248da2d7f38f15bc8365ea42': \"{'last_fail_alert_time': 1527599182.979892, 'url': u'http://localhost:9019', 'state': 'failing', 'fail_count': 9, 'last_fail_time': '05/29 21:06', 'global_worker_id': u'localhost-9019-1', 'first_fail_time': '05/29 21:06'}\",\n",
       " 'c1713cd75d46d8aa1534920f2a5cb606277576e9870e080204bbec2a1a2d0e04': \"{'model_id': u'fib2', 'last_fail_alert_time': 1527599881.10437, 'url': u'http://localhost:9019', 'state': 'failing', 'fail_count': 1, 'last_fail_time': '05/29 21:18', 'global_worker_id': u'localhost-9019-1', 'first_fail_time': '05/29 21:18'}\",\n",
       " 'd7a717d1222f6d572a7ae3718504fef984949de9592f0b4611c95924684ad34b': \"{'model_id': u'fib', 'last_fail_alert_time': 0, 'url': u'http://localhost:8001', 'first_pass_time': '05/29 21:18', 'last_pass_time': '05/29 21:18', 'fail_count': 0, 'state': 'passing', 'global_worker_id': u'localhost-8001-1'}\",\n",
       " 'e92fa5e631743126373d0bed8bea72857226479a2f4a9d0a2b4fc7c244d3b79e': \"{'model_id': u'predict', 'last_fail_alert_time': 0, 'url': u'http://localhost:8002', 'first_pass_time': '05/29 21:18', 'last_pass_time': '05/29 21:18', 'fail_count': 0, 'state': 'passing', 'global_worker_id': u'localhost-8002-1'}\",\n",
       " 'ffe2ddea382ed0d33924697e9edfeb1d74797cd95ba49b1f3c0a9cf4672f4e7c': \"{'model_id': u'fib', 'last_fail_alert_time': 0, 'url': u'http://localhost:8003', 'first_pass_time': '05/29 21:18', 'last_pass_time': '05/29 21:18', 'fail_count': 0, 'state': 'passing', 'global_worker_id': u'localhost-8003-1'}\"}"
      ]
     },
     "execution_count": 124,
     "metadata": {},
     "output_type": "execute_result"
    }
   ],
   "source": [
    "r.hgetall('server_real_time_state')"
   ]
  },
  {
   "cell_type": "code",
   "execution_count": 55,
   "metadata": {},
   "outputs": [
    {
     "name": "stdout",
     "output_type": "stream",
     "text": [
      "knowledge.wanda.cn:4443 err\n",
      "0.00629281997681\n"
     ]
    }
   ],
   "source": [
    "class TCPTest():\n",
    "    def __init__(self, host, port):\n",
    "        #super(TCPTest, self).__init__(owner, config)\n",
    "        #super().__init__(owner, config)\n",
    "        import socket\n",
    "        self.host = host\n",
    "        self.port = port\n",
    "\n",
    "    def run(self):\n",
    "        import socket\n",
    "        try:\n",
    "            sock=socket.create_connection((self.host, self.port),timeout=1.1)# as sock:\n",
    "            print('{}:{} OK'.format(self.host, self.port))\n",
    "            sock.shutdown(socket.SHUT_RDWR)\n",
    "        except:\n",
    "            print('{}:{} {}'.format(self.host, self.port, 'err'))\n",
    "            #self.do_fail()\n",
    "        else:\n",
    "            print'd'\n",
    "            #self.do_pass()\n",
    "x=TCPTest('knowledge.wanda.cn',4443)\n",
    "import time\n",
    "t1=time.time()\n",
    "x.run()\n",
    "print(time.time()-t1)"
   ]
  },
  {
   "cell_type": "code",
   "execution_count": 23,
   "metadata": {},
   "outputs": [
    {
     "data": {
      "text/plain": [
       "[(2, 1, 6, '', ('151.101.72.223', 80))]"
      ]
     },
     "execution_count": 23,
     "metadata": {},
     "output_type": "execute_result"
    }
   ],
   "source": [
    "import socket\n",
    "socket.getaddrinfo(\"www.python.org\", 80, 0, 0, socket.IPPROTO_TCP)"
   ]
  },
  {
   "cell_type": "code",
   "execution_count": 153,
   "metadata": {},
   "outputs": [],
   "source": [
    "def dict_to_redis_hset(r, hkey, dict_to_store):\n",
    "    \"\"\"\n",
    "    Saves `dict_to_store` dict into Redis hash, where `hkey` is key of hash.\n",
    "    >>> import redis\n",
    "    >>> r = redis.StrictRedis(host='localhost')\n",
    "    >>> d = {'a':1, 'b':7, 'foo':'bar'}\n",
    "    >>> dict_to_redis_hset(r, 'test', d)\n",
    "    True\n",
    "    >>> r.hgetall('test')\n",
    "    {'a':1, 'b':7, 'foo':'bar'}\n",
    "    \"\"\"\n",
    "    return all([r.hset(hkey, k, v) for k, v in dict_to_store.items()])\n",
    "import redis\n",
    "r = redis.StrictRedis(host='localhost')\n",
    "worklist2=json.loads(r.hgetall('model_type_to_model_to_worker_list')['AI'])"
   ]
  },
  {
   "cell_type": "code",
   "execution_count": 144,
   "metadata": {},
   "outputs": [
    {
     "data": {
      "text/plain": [
       "{u'fib2': [u'localhost-8001-2', u'localhost-8001-1']}"
      ]
     },
     "execution_count": 144,
     "metadata": {},
     "output_type": "execute_result"
    }
   ],
   "source": [
    "worklist4=json.loads(r.hgetall('model_type_to_model_to_worker_list')['AI'])\n",
    "worklist4"
   ]
  },
  {
   "cell_type": "code",
   "execution_count": 128,
   "metadata": {},
   "outputs": [
    {
     "data": {
      "text/plain": [
       "{u'fib': [u'localhost-8001-1', u'localhost-9019-1', u'localhost-8003-1'],\n",
       " u'fib2': [u'localhost-8001-2',\n",
       "  u'localhost-9019-2',\n",
       "  u'localhost-8001-1',\n",
       "  u'localhost-9019-1'],\n",
       " u'predict': [u'localhost-8002-1', u'localhost-9005-1']}"
      ]
     },
     "execution_count": 128,
     "metadata": {},
     "output_type": "execute_result"
    }
   ],
   "source": [
    "worklist2"
   ]
  },
  {
   "cell_type": "code",
   "execution_count": 129,
   "metadata": {},
   "outputs": [
    {
     "data": {
      "text/plain": [
       "True"
      ]
     },
     "execution_count": 129,
     "metadata": {},
     "output_type": "execute_result"
    }
   ],
   "source": [
    "dict_to_redis_hset(r,'lll',worklist2)"
   ]
  },
  {
   "cell_type": "code",
   "execution_count": 132,
   "metadata": {},
   "outputs": [
    {
     "data": {
      "text/plain": [
       "False"
      ]
     },
     "execution_count": 132,
     "metadata": {},
     "output_type": "execute_result"
    }
   ],
   "source": [
    "worklist3={'fib': \"[u'localhost-8001-1']\"}\n",
    "dict_to_redis_hset(r,'lll',worklist3)"
   ]
  },
  {
   "cell_type": "code",
   "execution_count": 133,
   "metadata": {},
   "outputs": [
    {
     "data": {
      "text/plain": [
       "{'fib': \"[u'localhost-8001-1']\",\n",
       " 'fib2': \"[u'localhost-8001-2', u'localhost-9019-2', u'localhost-8001-1', u'localhost-9019-1']\",\n",
       " 'predict': \"[u'localhost-8002-1', u'localhost-9005-1']\"}"
      ]
     },
     "execution_count": 133,
     "metadata": {},
     "output_type": "execute_result"
    }
   ],
   "source": [
    "r.hgetall('lll')"
   ]
  },
  {
   "cell_type": "code",
   "execution_count": 121,
   "metadata": {},
   "outputs": [],
   "source": [
    "def isalive(self,model_type,worker_id_list):\n",
    "        worker_id = random.choice(worker_id_list)    \n",
    "        while True:   \n",
    "            try: \n",
    "                random_worker=json.loads(r.hgetall('model_type_to_worker_id_to_worker')[model_type])[worker_id]\n",
    "                host_port='http://%s:%d' % (random_worker['host'],random_worker['port'])\n",
    "                resp = self.session.request('get', url=host_port, params=None, json=None, timeout=3)\n",
    "                return worker_id\n",
    "            except requests.exceptions.RequestException:\n",
    "                worker_id = random.choice(worker_id_list)\n",
    "                random_worker=json.loads(r.hgetall('model_type_to_worker_id_to_worker')[model_type])[worker_id]\n",
    "                host_port='http://%s:%d' % (random_worker['host'],random_worker['port'])\n"
   ]
  },
  {
   "cell_type": "code",
   "execution_count": null,
   "metadata": {},
   "outputs": [],
   "source": []
  },
  {
   "cell_type": "code",
   "execution_count": 123,
   "metadata": {},
   "outputs": [
    {
     "name": "stdout",
     "output_type": "stream",
     "text": [
      "(u'http://localhost:8001', 200, 'OK')\n",
      "(u'http://localhost:8001', 200, 'OK')\n",
      "http://localhost:9019:{'x-ha-access': 'XXXXXXXX', 'Content-Type': 'application/json'} HTTPConnectionPool(host='localhost', port=9019): Max retries exceeded with url: / (Caused by NewConnectionError('<requests.packages.urllib3.connection.HTTPConnection object at 0x10f002310>: Failed to establish a new connection: [Errno 61] Connection refused',))\n",
      "(u'http://localhost:8001', 200, 'OK')\n",
      "http://localhost:9019:{'x-ha-access': 'XXXXXXXX', 'Content-Type': 'application/json'} HTTPConnectionPool(host='localhost', port=9019): Max retries exceeded with url: / (Caused by NewConnectionError('<requests.packages.urllib3.connection.HTTPConnection object at 0x10f30fa50>: Failed to establish a new connection: [Errno 61] Connection refused',))\n",
      "(u'http://localhost:8003', 200, 'OK')\n",
      "(u'http://localhost:8001', 200, 'OK')\n",
      "http://localhost:9019:{'x-ha-access': 'XXXXXXXX', 'Content-Type': 'application/json'} HTTPConnectionPool(host='localhost', port=9019): Max retries exceeded with url: / (Caused by NewConnectionError('<requests.packages.urllib3.connection.HTTPConnection object at 0x10f30f950>: Failed to establish a new connection: [Errno 61] Connection refused',))\n",
      "(u'http://localhost:8003', 200, 'OK')\n",
      "(u'http://localhost:8002', 200, 'OK')\n",
      "(u'http://localhost:8001', 200, 'OK')\n",
      "http://localhost:9019:{'x-ha-access': 'XXXXXXXX', 'Content-Type': 'application/json'} HTTPConnectionPool(host='localhost', port=9019): Max retries exceeded with url: / (Caused by NewConnectionError('<requests.packages.urllib3.connection.HTTPConnection object at 0x10f002390>: Failed to establish a new connection: [Errno 61] Connection refused',))\n",
      "(u'http://localhost:8003', 200, 'OK')\n",
      "(u'http://localhost:8002', 200, 'OK')\n",
      "http://localhost:9005:{'x-ha-access': 'XXXXXXXX', 'Content-Type': 'application/json'} HTTPConnectionPool(host='localhost', port=9005): Max retries exceeded with url: / (Caused by NewConnectionError('<requests.packages.urllib3.connection.HTTPConnection object at 0x10f0024d0>: Failed to establish a new connection: [Errno 61] Connection refused',))\n",
      "(u'http://localhost:8001', 200, 'OK')\n",
      "http://localhost:9019:{'x-ha-access': 'XXXXXXXX', 'Content-Type': 'application/json'} HTTPConnectionPool(host='localhost', port=9019): Max retries exceeded with url: / (Caused by NewConnectionError('<requests.packages.urllib3.connection.HTTPConnection object at 0x10f30f790>: Failed to establish a new connection: [Errno 61] Connection refused',))\n",
      "(u'http://localhost:8003', 200, 'OK')\n",
      "(u'http://localhost:8002', 200, 'OK')\n",
      "http://localhost:9005:{'x-ha-access': 'XXXXXXXX', 'Content-Type': 'application/json'} HTTPConnectionPool(host='localhost', port=9005): Max retries exceeded with url: / (Caused by NewConnectionError('<requests.packages.urllib3.connection.HTTPConnection object at 0x10f30fa50>: Failed to establish a new connection: [Errno 61] Connection refused',))\n",
      "(u'http://localhost:8001', 200, 'OK')\n",
      "(u'http://localhost:8001', 200, 'OK')\n",
      "http://localhost:9019:{'x-ha-access': 'XXXXXXXX', 'Content-Type': 'application/json'} HTTPConnectionPool(host='localhost', port=9019): Max retries exceeded with url: / (Caused by NewConnectionError('<requests.packages.urllib3.connection.HTTPConnection object at 0x10f30f950>: Failed to establish a new connection: [Errno 61] Connection refused',))\n",
      "(u'http://localhost:8003', 200, 'OK')\n",
      "(u'http://localhost:8002', 200, 'OK')\n",
      "http://localhost:9005:{'x-ha-access': 'XXXXXXXX', 'Content-Type': 'application/json'} HTTPConnectionPool(host='localhost', port=9005): Max retries exceeded with url: / (Caused by NewConnectionError('<requests.packages.urllib3.connection.HTTPConnection object at 0x10f30f8d0>: Failed to establish a new connection: [Errno 61] Connection refused',))\n",
      "(u'http://localhost:8001', 200, 'OK')\n",
      "http://localhost:9019:{'x-ha-access': 'XXXXXXXX', 'Content-Type': 'application/json'} HTTPConnectionPool(host='localhost', port=9019): Max retries exceeded with url: / (Caused by NewConnectionError('<requests.packages.urllib3.connection.HTTPConnection object at 0x10f002310>: Failed to establish a new connection: [Errno 61] Connection refused',))\n",
      "(u'http://localhost:8001', 200, 'OK')\n",
      "http://localhost:9019:{'x-ha-access': 'XXXXXXXX', 'Content-Type': 'application/json'} HTTPConnectionPool(host='localhost', port=9019): Max retries exceeded with url: / (Caused by NewConnectionError('<requests.packages.urllib3.connection.HTTPConnection object at 0x10f30f790>: Failed to establish a new connection: [Errno 61] Connection refused',))\n",
      "(u'http://localhost:8003', 200, 'OK')\n",
      "(u'http://localhost:8002', 200, 'OK')\n",
      "http://localhost:9005:{'x-ha-access': 'XXXXXXXX', 'Content-Type': 'application/json'} HTTPConnectionPool(host='localhost', port=9005): Max retries exceeded with url: / (Caused by NewConnectionError('<requests.packages.urllib3.connection.HTTPConnection object at 0x10f30fc90>: Failed to establish a new connection: [Errno 61] Connection refused',))\n",
      "(u'http://localhost:8001', 200, 'OK')\n",
      "http://localhost:9019:{'x-ha-access': 'XXXXXXXX', 'Content-Type': 'application/json'} HTTPConnectionPool(host='localhost', port=9019): Max retries exceeded with url: / (Caused by NewConnectionError('<requests.packages.urllib3.connection.HTTPConnection object at 0x10f002490>: Failed to establish a new connection: [Errno 61] Connection refused',))\n",
      "(u'http://localhost:8001', 200, 'OK')\n",
      "(u'http://localhost:8001', 200, 'OK')\n",
      "http://localhost:9019:{'x-ha-access': 'XXXXXXXX', 'Content-Type': 'application/json'} HTTPConnectionPool(host='localhost', port=9019): Max retries exceeded with url: / (Caused by NewConnectionError('<requests.packages.urllib3.connection.HTTPConnection object at 0x10f002390>: Failed to establish a new connection: [Errno 61] Connection refused',))\n",
      "(u'http://localhost:8003', 200, 'OK')\n",
      "(u'http://localhost:8002', 200, 'OK')\n",
      "http://localhost:9005:{'x-ha-access': 'XXXXXXXX', 'Content-Type': 'application/json'} HTTPConnectionPool(host='localhost', port=9005): Max retries exceeded with url: / (Caused by NewConnectionError('<requests.packages.urllib3.connection.HTTPConnection object at 0x10f002210>: Failed to establish a new connection: [Errno 61] Connection refused',))\n",
      "(u'http://localhost:8001', 200, 'OK')\n",
      "http://localhost:9019:{'x-ha-access': 'XXXXXXXX', 'Content-Type': 'application/json'} HTTPConnectionPool(host='localhost', port=9019): Max retries exceeded with url: / (Caused by NewConnectionError('<requests.packages.urllib3.connection.HTTPConnection object at 0x10f30fb50>: Failed to establish a new connection: [Errno 61] Connection refused',))\n",
      "(u'http://localhost:8001', 200, 'OK')\n",
      "http://localhost:9019:{'x-ha-access': 'XXXXXXXX', 'Content-Type': 'application/json'} HTTPConnectionPool(host='localhost', port=9019): Max retries exceeded with url: / (Caused by NewConnectionError('<requests.packages.urllib3.connection.HTTPConnection object at 0x10f002990>: Failed to establish a new connection: [Errno 61] Connection refused',))\n"
     ]
    }
   ],
   "source": [
    "worklist_db=json.loads(r.hgetall('model_type_to_model_to_worker_list')['AI'])\n",
    "heartbeat = Heartbeat4LB()\n",
    "    \n",
    "for model_id,worklist in worklist_db.items():\n",
    "    for worker_id in worklist:\n",
    "        per_worker=json.loads(r.hgetall('model_type_to_worker_id_to_worker')['AI'])[worker_id]\n",
    "        heartbeat.run({'host':per_worker['host'],'port':per_worker['port'],'worker_id':worker_id,'model_id':model_id,'test_type':'http'})\n",
    "        #print model_id,per_worker"
   ]
  },
  {
   "cell_type": "code",
   "execution_count": 159,
   "metadata": {},
   "outputs": [
    {
     "data": {
      "text/plain": [
       "{'AI': '{\"fib\": [\"localhost-8002-3\", \"localhost-8003-1\"], \"fib2\": [\"localhost-8001-2\"]}',\n",
       " '\\x80\\x02X\\x02\\x00\\x00\\x00AIq\\x00.': '\\x80\\x02}q\\x00.'}"
      ]
     },
     "execution_count": 159,
     "metadata": {},
     "output_type": "execute_result"
    }
   ],
   "source": [
    "r.hgetall('model_type_to_model_to_worker_list')"
   ]
  },
  {
   "cell_type": "code",
   "execution_count": 147,
   "metadata": {},
   "outputs": [
    {
     "data": {
      "text/plain": [
       "{'AI': '{\"localhost-8001-2\": {\"local_worker_id\": 2, \"host\": \"localhost\", \"global_worker_id\": \"localhost-8001-2\", \"port\": 8001}, \"localhost-8001-3\": {\"local_worker_id\": 3, \"host\": \"localhost\", \"global_worker_id\": \"localhost-8001-3\", \"port\": 8001}, \"localhost-8001-1\": {\"local_worker_id\": 1, \"host\": \"localhost\", \"global_worker_id\": \"localhost-8001-1\", \"port\": 8001}, \"localhost-8003-1\": {\"local_worker_id\": 1, \"host\": \"localhost\", \"global_worker_id\": \"localhost-8003-1\", \"port\": 8003}}'}"
      ]
     },
     "execution_count": 147,
     "metadata": {},
     "output_type": "execute_result"
    }
   ],
   "source": [
    "r.hgetall('model_type_to_worker_id_to_worker')"
   ]
  },
  {
   "cell_type": "code",
   "execution_count": null,
   "metadata": {},
   "outputs": [],
   "source": [
    "{'AI':}"
   ]
  },
  {
   "cell_type": "code",
   "execution_count": 172,
   "metadata": {},
   "outputs": [
    {
     "data": {
      "text/plain": [
       "'{\"localhost-8001-2\": 1, \"localhost-9005-1\": 1}'"
      ]
     },
     "execution_count": 172,
     "metadata": {},
     "output_type": "execute_result"
    }
   ],
   "source": [
    "r.hgetall('model_id_request_count').pop('fib2')"
   ]
  },
  {
   "cell_type": "code",
   "execution_count": 175,
   "metadata": {},
   "outputs": [],
   "source": [
    "import redis\n",
    "def del_hkeys(pattern) :  \n",
    "    cnt = redis.Redis(host='127.0.0.1',port=6379,db=2)  \n",
    "    key_dict={}  \n",
    "    keys = cnt.keys(pattern);  \n",
    "    for key in keys:  \n",
    "        subkeys = cnt.hkeys(key)  \n",
    "        key_dict[key] = subkeys  \n",
    "    pipe = cnt.pipeline(transaction=False)  \n",
    "    counter=0  \n",
    "    for key in key_dict.keys():  \n",
    "        subkeys = key_dict[key]  \n",
    "        for subkey in subkeys:  \n",
    "            cnt.hdel(key, subkey)  \n",
    "            counter+=1  \n",
    "            if counter > 10000:  \n",
    "                pipe.execute()  \n",
    "    pipe.execute()\n",
    "del_hkeys('fib2')"
   ]
  },
  {
   "cell_type": "code",
   "execution_count": 176,
   "metadata": {},
   "outputs": [
    {
     "data": {
      "text/plain": [
       "{'fib': '{\"localhost-8002-3\": 1}',\n",
       " 'fib2': '{\"localhost-8001-2\": 1, \"localhost-9005-1\": 1}',\n",
       " 'predict': '{\"localhost-9005-1\": 1}'}"
      ]
     },
     "execution_count": 176,
     "metadata": {},
     "output_type": "execute_result"
    }
   ],
   "source": [
    "r.hgetall('model_id_request_count')"
   ]
  },
  {
   "cell_type": "code",
   "execution_count": 170,
   "metadata": {},
   "outputs": [
    {
     "data": {
      "text/plain": [
       "1"
      ]
     },
     "execution_count": 170,
     "metadata": {},
     "output_type": "execute_result"
    }
   ],
   "source": [
    "r.hdel('model_id_request_count','\\x80\\x02X\\x03\\x00\\x00\\x00fibq\\x00.')"
   ]
  },
  {
   "cell_type": "code",
   "execution_count": 168,
   "metadata": {},
   "outputs": [
    {
     "data": {
      "text/plain": [
       "{'1106f3ac9cf41ce3c84567733ee385e91da61dd2a523407fe0942b3530cdc24f': \"{'model_id': u'fib2', 'last_fail_alert_time': 1527641831.724177, 'url': u'http://localhost:9019', 'state': 'failing', 'fail_count': 3, 'last_fail_time': '05/30 08:57', 'global_worker_id': u'localhost-9019-2', 'first_fail_time': '05/30 08:57'}\",\n",
       " '13c9f03a7ae085ff673a325df2b0173946098c85eec13e0ef57062ab80e6d50b': \"{'model_id': u'fib', 'last_fail_alert_time': 0, 'url': u'http://localhost:8001', 'first_pass_time': '05/30 18:44', 'last_pass_time': '05/30 18:44', 'fail_count': 0, 'state': 'passing', 'global_worker_id': u'localhost-8001-3'}\",\n",
       " '26d1e11d0ad3d3bf48b81d8658afc3c5a1796438bd348e72c9551d5893aa8665': \"{'last_fail_alert_time': 0, 'url': u'http://localhost:8003', 'first_pass_time': '05/31 11:32', 'last_pass_time': '05/31 11:32', 'fail_count': 0, 'state': 'passing', 'global_worker_id': u'localhost-8003-1'}\",\n",
       " '2e4e0674909b941665469df6f548718f66198f5bd7b98995e7a22751fdc49479': \"{'model_id': u'fib2', 'last_fail_alert_time': 0, 'url': u'http://localhost:8001', 'first_pass_time': '05/30 09:45', 'last_pass_time': '05/30 09:45', 'fail_count': 0, 'state': 'passing', 'global_worker_id': u'localhost-8001-2'}\",\n",
       " '3599554d487ac658835d3a40bb14d0a51793cb985ce7c9f9434b4c88cce68ea6': \"{'last_fail_alert_time': 1527599183.227461, 'url': u'http://localhost:9019', 'state': 'failing', 'fail_count': 3, 'last_fail_time': '05/29 21:06', 'global_worker_id': u'localhost-9019-2', 'first_fail_time': '05/29 21:06'}\",\n",
       " '376363630455a87995b6cba1d9d02f2ce9a0100c3a9a222dd3f1773c8af5d20f': \"{'model_id': u'fib2', 'last_fail_alert_time': 0, 'url': u'http://localhost:8001', 'first_pass_time': '05/30 18:36', 'last_pass_time': '05/30 18:36', 'fail_count': 0, 'state': 'passing', 'global_worker_id': u'localhost-8001-1'}\",\n",
       " '39f6a25897686c3ba25ec1a9fe24a670c4c5e42f476392734933fb91c86920eb': \"{'last_fail_alert_time': 1527599183.095376, 'url': u'http://localhost:9005', 'state': 'failing', 'fail_count': 5, 'last_fail_time': '05/29 21:06', 'global_worker_id': u'localhost-9005-1', 'first_fail_time': '05/29 21:06'}\",\n",
       " '3d582a3591f27fee1a39b0dfcd5b7009ff7fc180849fb12b21eb2bf88d5cb4b7': \"{'last_fail_alert_time': 0, 'url': u'http://localhost:8002', 'first_pass_time': '05/29 21:06', 'last_pass_time': '05/29 21:06', 'fail_count': 0, 'state': 'passing', 'global_worker_id': u'localhost-8002-1'}\",\n",
       " '4e557f316cbe1b9c4227285c7a7d6580f5957309b197d2ea343a90875a5b0e62': \"{'model_id': u'fib2', 'last_fail_alert_time': 0, 'url': u'http://localhost:8001', 'first_pass_time': '05/30 09:45', 'last_pass_time': '05/30 09:45', 'fail_count': 0, 'state': 'passing', 'global_worker_id': u'localhost-8001-1'}\",\n",
       " '67b0f92881cba4f1c39bc866cb5d85e66b4cd78f759f2f0f4bdcf5cf7eaa5920': \"{'last_fail_alert_time': 0, 'url': u'http://localhost:8001', 'first_pass_time': '05/29 21:06', 'last_pass_time': '05/29 21:06', 'fail_count': 0, 'state': 'passing', 'global_worker_id': u'localhost-8001-1'}\",\n",
       " '6cf73b4f3c3adb15b8061b651515ec6cfaa9750c7ce5cde84cdfb6c83bc97587': \"{'model_id': u'fib', 'last_fail_alert_time': 1527641831.502657, 'url': u'http://localhost:9019', 'state': 'failing', 'fail_count': 8, 'last_fail_time': '05/30 08:57', 'global_worker_id': u'localhost-9019-1', 'first_fail_time': '05/30 08:57'}\",\n",
       " '8510509c49b9132eeb403a0509a047b46d3472aa53425f852c7979048c7aa46a': \"{'last_fail_alert_time': 0, 'url': u'http://localhost:8003', 'first_pass_time': '05/29 21:06', 'last_pass_time': '05/29 21:06', 'fail_count': 0, 'state': 'passing', 'global_worker_id': u'localhost-8003-1'}\",\n",
       " '8ed1359ed01d96ac12121f4ee9738caf1c389e29b682e6f70ae6f3b4c02042c7': \"{'last_fail_alert_time': 0, 'url': u'http://localhost:8001', 'first_pass_time': '05/29 21:06', 'last_pass_time': '05/29 21:06', 'fail_count': 0, 'state': 'passing', 'global_worker_id': u'localhost-8001-2'}\",\n",
       " '90af8f19bc74106dd1fef2b6d2a0058194e2f6afbade2459c8de5e5ea52e695f': \"{'model_id': u'predict', 'last_fail_alert_time': 1527644403.056162, 'url': u'http://localhost:9005', 'state': 'failing', 'fail_count': 3, 'last_fail_time': '05/30 09:40', 'global_worker_id': u'localhost-9005-1', 'first_fail_time': '05/30 09:40'}\",\n",
       " 'a137716f2f91a1d698a58b42d7fbe93982ad1f1307baebf29e7d0552ceeaf8ea': \"{'model_id': u'fib', 'last_fail_alert_time': 0, 'url': u'http://localhost:8001', 'first_pass_time': '05/30 09:45', 'last_pass_time': '05/30 09:45', 'fail_count': 0, 'state': 'passing', 'global_worker_id': u'localhost-8001-3'}\",\n",
       " 'a7f72b9b4605a75758f4bbc2766238d8cd650996248da2d7f38f15bc8365ea42': \"{'last_fail_alert_time': 1527599182.979892, 'url': u'http://localhost:9019', 'state': 'failing', 'fail_count': 9, 'last_fail_time': '05/29 21:06', 'global_worker_id': u'localhost-9019-1', 'first_fail_time': '05/29 21:06'}\",\n",
       " 'c1713cd75d46d8aa1534920f2a5cb606277576e9870e080204bbec2a1a2d0e04': \"{'model_id': u'fib2', 'last_fail_alert_time': 1527641831.899587, 'url': u'http://localhost:9019', 'state': 'failing', 'fail_count': 1, 'last_fail_time': '05/30 08:57', 'global_worker_id': u'localhost-9019-1', 'first_fail_time': '05/30 08:57'}\",\n",
       " 'c6ac3e381a03569ef79a484c7314f0bbfdb1129ad11396606fd1fe0e60a87b68': \"{'last_fail_alert_time': 0, 'url': u'http://localhost:8002', 'first_pass_time': '05/31 11:32', 'last_pass_time': '05/31 11:32', 'fail_count': 0, 'state': 'passing', 'global_worker_id': u'localhost-8002-3'}\",\n",
       " 'd7a717d1222f6d572a7ae3718504fef984949de9592f0b4611c95924684ad34b': \"{'model_id': u'fib', 'last_fail_alert_time': 0, 'url': u'http://localhost:8001', 'first_pass_time': '05/30 09:43', 'last_pass_time': '05/30 09:43', 'fail_count': 0, 'state': 'passing', 'global_worker_id': u'localhost-8001-1'}\",\n",
       " 'e92fa5e631743126373d0bed8bea72857226479a2f4a9d0a2b4fc7c244d3b79e': \"{'model_id': u'predict', 'last_fail_alert_time': 0, 'url': u'http://localhost:8002', 'first_pass_time': '05/30 09:40', 'last_pass_time': '05/30 09:40', 'fail_count': 0, 'state': 'passing', 'global_worker_id': u'localhost-8002-1'}\",\n",
       " 'ec51948e2d434a1cb75cbe7317910a2e953ef2cbbe9b2ddf7240e8048a39ed41': \"{'last_fail_alert_time': 0, 'url': u'http://localhost:8001', 'first_pass_time': '05/31 11:32', 'last_pass_time': '05/31 11:32', 'fail_count': 0, 'state': 'passing', 'global_worker_id': u'localhost-8001-2'}\",\n",
       " 'efb002ba5d24f2d6136d0ecce6418fea7e2a9839be25c8a83f9fcffeaee1d9b8': \"{'model_id': u'fib2', 'last_fail_alert_time': 1527677058.899165, 'url': u'http://localhost:9019', 'state': 'failing', 'fail_count': 1, 'last_fail_time': '05/30 18:44', 'global_worker_id': u'localhost-9019-2', 'first_fail_time': '05/30 18:44'}\",\n",
       " 'ffe2ddea382ed0d33924697e9edfeb1d74797cd95ba49b1f3c0a9cf4672f4e7c': \"{'model_id': u'fib', 'last_fail_alert_time': 0, 'url': u'http://localhost:8003', 'first_pass_time': '05/30 09:45', 'last_pass_time': '05/30 09:45', 'fail_count': 0, 'state': 'passing', 'global_worker_id': u'localhost-8003-1'}\"}"
      ]
     },
     "execution_count": 168,
     "metadata": {},
     "output_type": "execute_result"
    }
   ],
   "source": [
    "r.hgetall('server_real_time_state')"
   ]
  },
  {
   "cell_type": "code",
   "execution_count": null,
   "metadata": {},
   "outputs": [],
   "source": []
  },
  {
   "cell_type": "code",
   "execution_count": 156,
   "metadata": {},
   "outputs": [],
   "source": [
    "from apscheduler.events import EVENT_ALL\n",
    "from apscheduler.schedulers.background import BackgroundScheduler"
   ]
  },
  {
   "cell_type": "code",
   "execution_count": 157,
   "metadata": {},
   "outputs": [
    {
     "name": "stdout",
     "output_type": "stream",
     "text": [
      "2018-05-30 18:54:50 你好\n",
      "2018-05-30 18:54:55 你好\n",
      "2018-05-30 18:55:00 你好\n",
      "2018-05-30 18:55:05 你好\n",
      "2018-05-30 18:55:10 你好\n",
      "2018-05-30 18:55:15 你好\n",
      "2018-05-30 18:55:20 你好\n",
      "2018-05-30 18:55:25 你好\n",
      "2018-05-30 18:55:30 你好\n"
     ]
    },
    {
     "ename": "KeyboardInterrupt",
     "evalue": "",
     "output_type": "error",
     "traceback": [
      "\u001b[0;31m---------------------------------------\u001b[0m",
      "\u001b[0;31mKeyboardInterrupt\u001b[0mTraceback (most recent call last)",
      "\u001b[0;32m<ipython-input-157-448dd771be3c>\u001b[0m in \u001b[0;36m<module>\u001b[0;34m()\u001b[0m\n\u001b[1;32m     10\u001b[0m \u001b[0mscheduler\u001b[0m \u001b[0;34m=\u001b[0m \u001b[0mBlockingScheduler\u001b[0m\u001b[0;34m(\u001b[0m\u001b[0;34m)\u001b[0m\u001b[0;34m\u001b[0m\u001b[0m\n\u001b[1;32m     11\u001b[0m \u001b[0mscheduler\u001b[0m\u001b[0;34m.\u001b[0m\u001b[0madd_job\u001b[0m\u001b[0;34m(\u001b[0m\u001b[0mfunc\u001b[0m\u001b[0;34m=\u001b[0m\u001b[0maps_test\u001b[0m\u001b[0;34m,\u001b[0m \u001b[0mtrigger\u001b[0m\u001b[0;34m=\u001b[0m\u001b[0;34m'cron'\u001b[0m\u001b[0;34m,\u001b[0m \u001b[0msecond\u001b[0m\u001b[0;34m=\u001b[0m\u001b[0;34m'*/5'\u001b[0m\u001b[0;34m)\u001b[0m\u001b[0;34m\u001b[0m\u001b[0m\n\u001b[0;32m---> 12\u001b[0;31m \u001b[0mscheduler\u001b[0m\u001b[0;34m.\u001b[0m\u001b[0mstart\u001b[0m\u001b[0;34m(\u001b[0m\u001b[0;34m)\u001b[0m\u001b[0;34m\u001b[0m\u001b[0m\n\u001b[0m",
      "\u001b[0;32m/Users/leepand/anaconda2/lib/python2.7/site-packages/apscheduler/schedulers/blocking.pyc\u001b[0m in \u001b[0;36mstart\u001b[0;34m(self, *args, **kwargs)\u001b[0m\n\u001b[1;32m     17\u001b[0m         \u001b[0mself\u001b[0m\u001b[0;34m.\u001b[0m\u001b[0m_event\u001b[0m \u001b[0;34m=\u001b[0m \u001b[0mEvent\u001b[0m\u001b[0;34m(\u001b[0m\u001b[0;34m)\u001b[0m\u001b[0;34m\u001b[0m\u001b[0m\n\u001b[1;32m     18\u001b[0m         \u001b[0msuper\u001b[0m\u001b[0;34m(\u001b[0m\u001b[0mBlockingScheduler\u001b[0m\u001b[0;34m,\u001b[0m \u001b[0mself\u001b[0m\u001b[0;34m)\u001b[0m\u001b[0;34m.\u001b[0m\u001b[0mstart\u001b[0m\u001b[0;34m(\u001b[0m\u001b[0;34m*\u001b[0m\u001b[0margs\u001b[0m\u001b[0;34m,\u001b[0m \u001b[0;34m**\u001b[0m\u001b[0mkwargs\u001b[0m\u001b[0;34m)\u001b[0m\u001b[0;34m\u001b[0m\u001b[0m\n\u001b[0;32m---> 19\u001b[0;31m         \u001b[0mself\u001b[0m\u001b[0;34m.\u001b[0m\u001b[0m_main_loop\u001b[0m\u001b[0;34m(\u001b[0m\u001b[0;34m)\u001b[0m\u001b[0;34m\u001b[0m\u001b[0m\n\u001b[0m\u001b[1;32m     20\u001b[0m \u001b[0;34m\u001b[0m\u001b[0m\n\u001b[1;32m     21\u001b[0m     \u001b[0;32mdef\u001b[0m \u001b[0mshutdown\u001b[0m\u001b[0;34m(\u001b[0m\u001b[0mself\u001b[0m\u001b[0;34m,\u001b[0m \u001b[0mwait\u001b[0m\u001b[0;34m=\u001b[0m\u001b[0mTrue\u001b[0m\u001b[0;34m)\u001b[0m\u001b[0;34m:\u001b[0m\u001b[0;34m\u001b[0m\u001b[0m\n",
      "\u001b[0;32m/Users/leepand/anaconda2/lib/python2.7/site-packages/apscheduler/schedulers/blocking.pyc\u001b[0m in \u001b[0;36m_main_loop\u001b[0;34m(self)\u001b[0m\n\u001b[1;32m     26\u001b[0m         \u001b[0mwait_seconds\u001b[0m \u001b[0;34m=\u001b[0m \u001b[0mTIMEOUT_MAX\u001b[0m\u001b[0;34m\u001b[0m\u001b[0m\n\u001b[1;32m     27\u001b[0m         \u001b[0;32mwhile\u001b[0m \u001b[0mself\u001b[0m\u001b[0;34m.\u001b[0m\u001b[0mstate\u001b[0m \u001b[0;34m!=\u001b[0m \u001b[0mSTATE_STOPPED\u001b[0m\u001b[0;34m:\u001b[0m\u001b[0;34m\u001b[0m\u001b[0m\n\u001b[0;32m---> 28\u001b[0;31m             \u001b[0mself\u001b[0m\u001b[0;34m.\u001b[0m\u001b[0m_event\u001b[0m\u001b[0;34m.\u001b[0m\u001b[0mwait\u001b[0m\u001b[0;34m(\u001b[0m\u001b[0mwait_seconds\u001b[0m\u001b[0;34m)\u001b[0m\u001b[0;34m\u001b[0m\u001b[0m\n\u001b[0m\u001b[1;32m     29\u001b[0m             \u001b[0mself\u001b[0m\u001b[0;34m.\u001b[0m\u001b[0m_event\u001b[0m\u001b[0;34m.\u001b[0m\u001b[0mclear\u001b[0m\u001b[0;34m(\u001b[0m\u001b[0;34m)\u001b[0m\u001b[0;34m\u001b[0m\u001b[0m\n\u001b[1;32m     30\u001b[0m             \u001b[0mwait_seconds\u001b[0m \u001b[0;34m=\u001b[0m \u001b[0mself\u001b[0m\u001b[0;34m.\u001b[0m\u001b[0m_process_jobs\u001b[0m\u001b[0;34m(\u001b[0m\u001b[0;34m)\u001b[0m\u001b[0;34m\u001b[0m\u001b[0m\n",
      "\u001b[0;32m/Users/leepand/anaconda2/lib/python2.7/threading.pyc\u001b[0m in \u001b[0;36mwait\u001b[0;34m(self, timeout)\u001b[0m\n\u001b[1;32m    612\u001b[0m         \u001b[0;32mwith\u001b[0m \u001b[0mself\u001b[0m\u001b[0;34m.\u001b[0m\u001b[0m__cond\u001b[0m\u001b[0;34m:\u001b[0m\u001b[0;34m\u001b[0m\u001b[0m\n\u001b[1;32m    613\u001b[0m             \u001b[0;32mif\u001b[0m \u001b[0;32mnot\u001b[0m \u001b[0mself\u001b[0m\u001b[0;34m.\u001b[0m\u001b[0m__flag\u001b[0m\u001b[0;34m:\u001b[0m\u001b[0;34m\u001b[0m\u001b[0m\n\u001b[0;32m--> 614\u001b[0;31m                 \u001b[0mself\u001b[0m\u001b[0;34m.\u001b[0m\u001b[0m__cond\u001b[0m\u001b[0;34m.\u001b[0m\u001b[0mwait\u001b[0m\u001b[0;34m(\u001b[0m\u001b[0mtimeout\u001b[0m\u001b[0;34m)\u001b[0m\u001b[0;34m\u001b[0m\u001b[0m\n\u001b[0m\u001b[1;32m    615\u001b[0m             \u001b[0;32mreturn\u001b[0m \u001b[0mself\u001b[0m\u001b[0;34m.\u001b[0m\u001b[0m__flag\u001b[0m\u001b[0;34m\u001b[0m\u001b[0m\n\u001b[1;32m    616\u001b[0m \u001b[0;34m\u001b[0m\u001b[0m\n",
      "\u001b[0;32m/Users/leepand/anaconda2/lib/python2.7/threading.pyc\u001b[0m in \u001b[0;36mwait\u001b[0;34m(self, timeout)\u001b[0m\n\u001b[1;32m    357\u001b[0m                         \u001b[0;32mbreak\u001b[0m\u001b[0;34m\u001b[0m\u001b[0m\n\u001b[1;32m    358\u001b[0m                     \u001b[0mdelay\u001b[0m \u001b[0;34m=\u001b[0m \u001b[0mmin\u001b[0m\u001b[0;34m(\u001b[0m\u001b[0mdelay\u001b[0m \u001b[0;34m*\u001b[0m \u001b[0;36m2\u001b[0m\u001b[0;34m,\u001b[0m \u001b[0mremaining\u001b[0m\u001b[0;34m,\u001b[0m \u001b[0;36m.05\u001b[0m\u001b[0;34m)\u001b[0m\u001b[0;34m\u001b[0m\u001b[0m\n\u001b[0;32m--> 359\u001b[0;31m                     \u001b[0m_sleep\u001b[0m\u001b[0;34m(\u001b[0m\u001b[0mdelay\u001b[0m\u001b[0;34m)\u001b[0m\u001b[0;34m\u001b[0m\u001b[0m\n\u001b[0m\u001b[1;32m    360\u001b[0m                 \u001b[0;32mif\u001b[0m \u001b[0;32mnot\u001b[0m \u001b[0mgotit\u001b[0m\u001b[0;34m:\u001b[0m\u001b[0;34m\u001b[0m\u001b[0m\n\u001b[1;32m    361\u001b[0m                     \u001b[0;32mif\u001b[0m \u001b[0m__debug__\u001b[0m\u001b[0;34m:\u001b[0m\u001b[0;34m\u001b[0m\u001b[0m\n",
      "\u001b[0;31mKeyboardInterrupt\u001b[0m: "
     ]
    }
   ],
   "source": [
    "# coding:utf-8\n",
    "from apscheduler.schedulers.blocking import BlockingScheduler\n",
    "import datetime\n",
    "\n",
    "\n",
    "def aps_test():\n",
    "    print datetime.datetime.now().strftime('%Y-%m-%d %H:%M:%S'), '你好'\n",
    "\n",
    "\n",
    "scheduler = BlockingScheduler()\n",
    "scheduler.add_job(func=aps_test, trigger='cron', second='*/5')\n",
    "scheduler.start()"
   ]
  },
  {
   "cell_type": "code",
   "execution_count": 177,
   "metadata": {},
   "outputs": [],
   "source": [
    "def dict_to_redis_hset(r, hkey, dict_to_store):\n",
    "    \"\"\"\n",
    "    Saves `dict_to_store` dict into Redis hash, where `hkey` is key of hash.\n",
    "    >>> import redis\n",
    "    >>> r = redis.StrictRedis(host='localhost')\n",
    "    >>> d = {'a':1, 'b':7, 'foo':'bar'}\n",
    "    >>> dict_to_redis_hset(r, 'test', d)\n",
    "    True\n",
    "    >>> r.hgetall('test')\n",
    "    {'a':1, 'b':7, 'foo':'bar'}\n",
    "    \"\"\"\n",
    "    return all([r.hset(hkey, k, v) for k, v in dict_to_store.items()])"
   ]
  },
  {
   "cell_type": "code",
   "execution_count": 184,
   "metadata": {},
   "outputs": [
    {
     "data": {
      "text/plain": [
       "False"
      ]
     },
     "execution_count": 184,
     "metadata": {},
     "output_type": "execute_result"
    }
   ],
   "source": [
    "ai={'ai':{'a':1, 'b':7, 'foo':'bar'}}\n",
    "dict_to_redis_hset(r,'dd',ai)"
   ]
  },
  {
   "cell_type": "code",
   "execution_count": 180,
   "metadata": {},
   "outputs": [
    {
     "data": {
      "text/plain": [
       "{'ai': \"{'a': 1, 'b': 7, 'foo': 'bar'}\"}"
      ]
     },
     "execution_count": 180,
     "metadata": {},
     "output_type": "execute_result"
    }
   ],
   "source": [
    "r.hgetall('dd')"
   ]
  },
  {
   "cell_type": "code",
   "execution_count": 186,
   "metadata": {},
   "outputs": [],
   "source": [
    "ai2={'ai':json.dumps({'a':0})}"
   ]
  },
  {
   "cell_type": "code",
   "execution_count": 187,
   "metadata": {},
   "outputs": [
    {
     "data": {
      "text/plain": [
       "False"
      ]
     },
     "execution_count": 187,
     "metadata": {},
     "output_type": "execute_result"
    }
   ],
   "source": [
    "dict_to_redis_hset(r,'dd',ai2)"
   ]
  },
  {
   "cell_type": "code",
   "execution_count": 188,
   "metadata": {},
   "outputs": [
    {
     "data": {
      "text/plain": [
       "{'ai': '{\"a\": 0}'}"
      ]
     },
     "execution_count": 188,
     "metadata": {},
     "output_type": "execute_result"
    }
   ],
   "source": [
    "r.hgetall('dd')"
   ]
  },
  {
   "cell_type": "code",
   "execution_count": null,
   "metadata": {},
   "outputs": [],
   "source": []
  }
 ],
 "metadata": {
  "kernelspec": {
   "display_name": "Python 2",
   "language": "python",
   "name": "python2"
  },
  "language_info": {
   "codemirror_mode": {
    "name": "ipython",
    "version": 2
   },
   "file_extension": ".py",
   "mimetype": "text/x-python",
   "name": "python",
   "nbconvert_exporter": "python",
   "pygments_lexer": "ipython2",
   "version": "2.7.13"
  }
 },
 "nbformat": 4,
 "nbformat_minor": 2
}
