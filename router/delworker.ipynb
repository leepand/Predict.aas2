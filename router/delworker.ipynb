{
 "cells": [
  {
   "cell_type": "code",
   "execution_count": 1,
   "metadata": {},
   "outputs": [
    {
     "name": "stdout",
     "output_type": "stream",
     "text": [
      "Writing remove_workers.py\n"
     ]
    }
   ],
   "source": [
    "%%file remove_workers.py\n",
    "import falcon\n",
    "import json\n",
    "import sys\n",
    "import logging\n",
    "\n",
    "class DelWorkersResource(object):\n",
    "    \"\"\"\n",
    "    To del Model to Workers info\n",
    "    \"\"\"\n",
    "    def __init__(self, load_balancer):\n",
    "        self.load_balancer = load_balancer\n",
    "        self.logger = logging.getLogger(__name__)\n",
    "\n",
    "    def on_put(self, req, resp):\n",
    "        \"\"\"\n",
    "        Method to update model to workers map\n",
    "        :param req:\n",
    "        :param resp:\n",
    "        :return:\n",
    "        \"\"\"\n",
    "        model_to_workers_dels = json.loads(req.stream.read())\n",
    "        self.logger.debug('Update request received with payload: %s', str(model_to_workers_dels))\n",
    "        self.load_balancer.remove_workers(model_to_workers_dels)\n",
    "        #model_type=model_to_workers_map['model_type']\n",
    "        \n",
    "        resp.status = falcon.HTTP_200\n",
    "        #resp.content=json.dumps({\"reg info\":\"sucess\"})\n",
    "        resp.body = json.dumps({\"Register Model Service\": \"Success\"})\n",
    "\n"
   ]
  },
  {
   "cell_type": "code",
   "execution_count": null,
   "metadata": {},
   "outputs": [],
   "source": []
  }
 ],
 "metadata": {
  "kernelspec": {
   "display_name": "Python 2",
   "language": "python",
   "name": "python2"
  },
  "language_info": {
   "codemirror_mode": {
    "name": "ipython",
    "version": 2
   },
   "file_extension": ".py",
   "mimetype": "text/x-python",
   "name": "python",
   "nbconvert_exporter": "python",
   "pygments_lexer": "ipython2",
   "version": "2.7.13"
  }
 },
 "nbformat": 4,
 "nbformat_minor": 2
}
